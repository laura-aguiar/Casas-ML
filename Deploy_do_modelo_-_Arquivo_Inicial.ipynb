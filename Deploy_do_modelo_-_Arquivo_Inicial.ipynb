{
 "cells": [
  {
   "cell_type": "markdown",
   "metadata": {},
   "source": [
    "# Fazendo o deploy do nosso modelo"
   ]
  },
  {
   "cell_type": "markdown",
   "metadata": {},
   "source": [
    "### Regressão no Scikit-Learn\n",
    "- https://scikit-learn.org/stable/modules/generated/sklearn.linear_model.LinearRegression.html\n",
    "<br><br>\n",
    "- Vamos usar o dataset de preço das casas na Califórnia\n",
    "    - https://scikit-learn.org/stable/modules/generated/sklearn.datasets.fetch_california_housing.html#sklearn.datasets.fetch_california_housing\n",
    "    - Esse dataset já está foi separado nos arquivos `casas_treino.csv` e `casas_teste.csv` utilizando o train_test_split com os parâmetros test_size=0.33 e random_state=42"
   ]
  },
  {
   "cell_type": "code",
   "execution_count": 1,
   "metadata": {},
   "outputs": [],
   "source": [
    "# Importando o pandas\n",
    "import pandas as pd"
   ]
  },
  {
   "cell_type": "code",
   "execution_count": 5,
   "metadata": {},
   "outputs": [],
   "source": [
    "# Importando a base de treino\n",
    "treino = pd.read_csv('casas_treino.csv')\n",
    "treino = treino.drop('Unnamed: 0',axis=1)"
   ]
  },
  {
   "cell_type": "code",
   "execution_count": 6,
   "metadata": {},
   "outputs": [
    {
     "data": {
      "text/html": [
       "<div>\n",
       "<style scoped>\n",
       "    .dataframe tbody tr th:only-of-type {\n",
       "        vertical-align: middle;\n",
       "    }\n",
       "\n",
       "    .dataframe tbody tr th {\n",
       "        vertical-align: top;\n",
       "    }\n",
       "\n",
       "    .dataframe thead th {\n",
       "        text-align: right;\n",
       "    }\n",
       "</style>\n",
       "<table border=\"1\" class=\"dataframe\">\n",
       "  <thead>\n",
       "    <tr style=\"text-align: right;\">\n",
       "      <th></th>\n",
       "      <th>MedInc</th>\n",
       "      <th>HouseAge</th>\n",
       "      <th>AveRooms</th>\n",
       "      <th>AveBedrms</th>\n",
       "      <th>Population</th>\n",
       "      <th>AveOccup</th>\n",
       "      <th>Latitude</th>\n",
       "      <th>Longitude</th>\n",
       "      <th>MedHouseVal</th>\n",
       "    </tr>\n",
       "  </thead>\n",
       "  <tbody>\n",
       "    <tr>\n",
       "      <th>0</th>\n",
       "      <td>0.9809</td>\n",
       "      <td>19.0</td>\n",
       "      <td>3.187726</td>\n",
       "      <td>1.129964</td>\n",
       "      <td>726.0</td>\n",
       "      <td>2.620939</td>\n",
       "      <td>33.98</td>\n",
       "      <td>-118.28</td>\n",
       "      <td>1.214</td>\n",
       "    </tr>\n",
       "    <tr>\n",
       "      <th>1</th>\n",
       "      <td>4.2232</td>\n",
       "      <td>33.0</td>\n",
       "      <td>6.189696</td>\n",
       "      <td>1.086651</td>\n",
       "      <td>1015.0</td>\n",
       "      <td>2.377049</td>\n",
       "      <td>37.46</td>\n",
       "      <td>-122.23</td>\n",
       "      <td>3.637</td>\n",
       "    </tr>\n",
       "    <tr>\n",
       "      <th>2</th>\n",
       "      <td>3.5488</td>\n",
       "      <td>42.0</td>\n",
       "      <td>4.821577</td>\n",
       "      <td>1.095436</td>\n",
       "      <td>1044.0</td>\n",
       "      <td>4.331950</td>\n",
       "      <td>33.79</td>\n",
       "      <td>-118.26</td>\n",
       "      <td>2.056</td>\n",
       "    </tr>\n",
       "  </tbody>\n",
       "</table>\n",
       "</div>"
      ],
      "text/plain": [
       "   MedInc  HouseAge  AveRooms  AveBedrms  Population  AveOccup  Latitude  \\\n",
       "0  0.9809      19.0  3.187726   1.129964       726.0  2.620939     33.98   \n",
       "1  4.2232      33.0  6.189696   1.086651      1015.0  2.377049     37.46   \n",
       "2  3.5488      42.0  4.821577   1.095436      1044.0  4.331950     33.79   \n",
       "\n",
       "   Longitude  MedHouseVal  \n",
       "0    -118.28        1.214  \n",
       "1    -122.23        3.637  \n",
       "2    -118.26        2.056  "
      ]
     },
     "execution_count": 6,
     "metadata": {},
     "output_type": "execute_result"
    }
   ],
   "source": [
    "# Visualizando as 3 primeiras linhas\n",
    "treino.head(3)"
   ]
  },
  {
   "cell_type": "code",
   "execution_count": 8,
   "metadata": {},
   "outputs": [],
   "source": [
    "# Separando X e y\n",
    "x = treino.drop('MedHouseVal',axis=1)\n",
    "y = treino.MedHouseVal"
   ]
  },
  {
   "cell_type": "markdown",
   "metadata": {},
   "source": [
    "### Usando o modelo de regressão linear\n",
    "- https://scikit-learn.org/stable/modules/generated/sklearn.linear_model.LinearRegression.html"
   ]
  },
  {
   "cell_type": "code",
   "execution_count": 9,
   "metadata": {},
   "outputs": [],
   "source": [
    "# Importando a Regressão Linear\n",
    "from sklearn.linear_model import LinearRegression"
   ]
  },
  {
   "cell_type": "code",
   "execution_count": 10,
   "metadata": {},
   "outputs": [],
   "source": [
    "# Criando nosso algoritmo de regressão\n",
    "reg = LinearRegression().fit(x, y)"
   ]
  },
  {
   "cell_type": "code",
   "execution_count": 13,
   "metadata": {},
   "outputs": [
    {
     "data": {
      "text/plain": [
       "0.5970494128783954"
      ]
     },
     "execution_count": 13,
     "metadata": {},
     "output_type": "execute_result"
    }
   ],
   "source": [
    "# Avaliando o modelo nos dados de TESTE usando apenas o score\n",
    "teste = pd.read_csv('casas_teste.csv')\n",
    "teste = teste.drop('Unnamed: 0',axis=1)\n",
    "\n",
    "x_teste = teste.drop('MedHouseVal',axis=1)\n",
    "y_teste = teste.MedHouseVal\n",
    "\n",
    "reg.score(x_teste, y_teste)"
   ]
  },
  {
   "cell_type": "code",
   "execution_count": 14,
   "metadata": {},
   "outputs": [
    {
     "data": {
      "text/plain": [
       "np.float64(-37.08201093907991)"
      ]
     },
     "execution_count": 14,
     "metadata": {},
     "output_type": "execute_result"
    }
   ],
   "source": [
    "# Exibindo o intercept (coeficiente linear)\n",
    "reg.intercept_"
   ]
  },
  {
   "cell_type": "code",
   "execution_count": 15,
   "metadata": {},
   "outputs": [
    {
     "data": {
      "text/plain": [
       "array([ 4.44870466e-01,  9.55004561e-03, -1.21991503e-01,  7.79144696e-01,\n",
       "       -7.68990809e-08, -3.29948505e-03, -4.19131153e-01, -4.34103468e-01])"
      ]
     },
     "execution_count": 15,
     "metadata": {},
     "output_type": "execute_result"
    }
   ],
   "source": [
    "# Exibindo o coef (coeficiente angular)\n",
    "reg.coef_"
   ]
  },
  {
   "cell_type": "markdown",
   "metadata": {},
   "source": [
    "### Persistência do modelo\n",
    "- https://scikit-learn.org/stable/model_persistence.html"
   ]
  },
  {
   "cell_type": "code",
   "execution_count": 16,
   "metadata": {},
   "outputs": [
    {
     "data": {
      "text/plain": [
       "['regression.joblib']"
      ]
     },
     "execution_count": 16,
     "metadata": {},
     "output_type": "execute_result"
    }
   ],
   "source": [
    "# Fazendo o dump do nosso modelo\n",
    "from joblib import dump\n",
    "dump(reg,'regression.joblib' )"
   ]
  }
 ],
 "metadata": {
  "kernelspec": {
   "display_name": "base",
   "language": "python",
   "name": "python3"
  },
  "language_info": {
   "codemirror_mode": {
    "name": "ipython",
    "version": 3
   },
   "file_extension": ".py",
   "mimetype": "text/x-python",
   "name": "python",
   "nbconvert_exporter": "python",
   "pygments_lexer": "ipython3",
   "version": "3.13.5"
  }
 },
 "nbformat": 4,
 "nbformat_minor": 4
}
